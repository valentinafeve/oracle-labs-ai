{
 "cells": [
  {
   "cell_type": "markdown",
   "id": "00d00000-ca78-48a8-b245-a5f5643d4e5d",
   "metadata": {},
   "source": [
    "# Workshop: Introducción a Generative AI en Oracle y Creación de Agentes con LangChain\n",
    "\n",
    "Bienvenidos al workshop. En esta sesión vamos a explorar cómo usar los **servicios de IA generativa de Oracle** para resolver problemas reales y luego **crear un agente inteligente** usando **LangChain** que pueda interactuar con estos servicios.\n",
    "\n",
    "## Objetivos de la sesión\n",
    "- Conocer la oferta de **Oracle Cloud Infrastructure (OCI Generative AI)** y cómo integrarla desde Python.\n",
    "- Ejecutar peticiones a modelos de lenguaje para **generar texto** de manera controlada.\n",
    "- Construir un **agente con LangChain** que use herramientas (como SQL o RAG) para responder preguntas de forma autónoma.\n",
    "- Aprender buenas prácticas para **orquestar flujos de trabajo** y extender capacidades de los modelos.\n",
    "\n",
    "## Requisitos previos\n",
    "- Conocimientos básicos de Python 🐍\n",
    "- Tener acceso a una cuenta de **Oracle Cloud** con permisos para usar **OCI Generative AI**\n",
    "- Familiaridad básica con entornos virtuales y Jupyter Notebooks.\n",
    "\n",
    "> 💡 **Tip:** este notebook está diseñado para ser práctico y paso a paso. Podrás copiar, ejecutar y modificar el código para experimentar con los conceptos que vamos a explicar.\n",
    "\n",
    "¡Vamos a empezar!"
   ]
  },
  {
   "cell_type": "markdown",
   "id": "69740d84-2c48-4b00-bbdc-81baeea85f03",
   "metadata": {
    "tags": []
   },
   "source": [
    "## A continuación... "
   ]
  },
  {
   "cell_type": "markdown",
   "id": "95a9ae5b-c628-4761-931c-f050714a3c10",
   "metadata": {
    "tags": []
   },
   "source": [
    "📰 Recopilaremos noticias sobre el paro del 16 de Septiembre ocurrido en la ciudad de Bogotá \n",
    "\n",
    "🤖 Consumiremos un modelo de lenguaje alojado en Oracle Cloud \n",
    "\n",
    "🔍 Construiremos un agente con langchain que es capaz de responder a preguntas relacionadas con el paro del 16 de septiembre "
   ]
  },
  {
   "cell_type": "markdown",
   "id": "4a68ff69-1cae-476e-ac6f-e2d311ee51b9",
   "metadata": {},
   "source": [
    "## Instalación"
   ]
  },
  {
   "cell_type": "code",
   "execution_count": 18,
   "id": "1e73f277-6ad5-40e2-ae55-52adea8561a9",
   "metadata": {
    "tags": []
   },
   "outputs": [
    {
     "name": "stdout",
     "output_type": "stream",
     "text": [
      "Requirement already satisfied: tavily-python in /opt/anaconda3/envs/oci-ai/lib/python3.11/site-packages (0.7.12)\n",
      "Requirement already satisfied: requests in /opt/anaconda3/envs/oci-ai/lib/python3.11/site-packages (from tavily-python) (2.32.5)\n",
      "Requirement already satisfied: tiktoken>=0.5.1 in /opt/anaconda3/envs/oci-ai/lib/python3.11/site-packages (from tavily-python) (0.11.0)\n",
      "Requirement already satisfied: httpx in /opt/anaconda3/envs/oci-ai/lib/python3.11/site-packages (from tavily-python) (0.28.1)\n",
      "Requirement already satisfied: regex>=2022.1.18 in /opt/anaconda3/envs/oci-ai/lib/python3.11/site-packages (from tiktoken>=0.5.1->tavily-python) (2025.9.1)\n",
      "Requirement already satisfied: charset_normalizer<4,>=2 in /opt/anaconda3/envs/oci-ai/lib/python3.11/site-packages (from requests->tavily-python) (3.3.2)\n",
      "Requirement already satisfied: idna<4,>=2.5 in /opt/anaconda3/envs/oci-ai/lib/python3.11/site-packages (from requests->tavily-python) (3.7)\n",
      "Requirement already satisfied: urllib3<3,>=1.21.1 in /opt/anaconda3/envs/oci-ai/lib/python3.11/site-packages (from requests->tavily-python) (2.5.0)\n",
      "Requirement already satisfied: certifi>=2017.4.17 in /opt/anaconda3/envs/oci-ai/lib/python3.11/site-packages (from requests->tavily-python) (2025.8.3)\n",
      "Requirement already satisfied: anyio in /opt/anaconda3/envs/oci-ai/lib/python3.11/site-packages (from httpx->tavily-python) (4.10.0)\n",
      "Requirement already satisfied: httpcore==1.* in /opt/anaconda3/envs/oci-ai/lib/python3.11/site-packages (from httpx->tavily-python) (1.0.9)\n",
      "Requirement already satisfied: h11>=0.16 in /opt/anaconda3/envs/oci-ai/lib/python3.11/site-packages (from httpcore==1.*->httpx->tavily-python) (0.16.0)\n",
      "Requirement already satisfied: sniffio>=1.1 in /opt/anaconda3/envs/oci-ai/lib/python3.11/site-packages (from anyio->httpx->tavily-python) (1.3.1)\n",
      "Requirement already satisfied: typing_extensions>=4.5 in /opt/anaconda3/envs/oci-ai/lib/python3.11/site-packages (from anyio->httpx->tavily-python) (4.15.0)\n",
      "Requirement already satisfied: langchain-community in /opt/anaconda3/envs/oci-ai/lib/python3.11/site-packages (0.3.29)\n",
      "Requirement already satisfied: langchain-core in /opt/anaconda3/envs/oci-ai/lib/python3.11/site-packages (0.3.76)\n",
      "Requirement already satisfied: oci in /opt/anaconda3/envs/oci-ai/lib/python3.11/site-packages (2.160.1)\n",
      "Requirement already satisfied: langchain<2.0.0,>=0.3.27 in /opt/anaconda3/envs/oci-ai/lib/python3.11/site-packages (from langchain-community) (0.3.27)\n",
      "Requirement already satisfied: SQLAlchemy<3,>=1.4 in /opt/anaconda3/envs/oci-ai/lib/python3.11/site-packages (from langchain-community) (2.0.43)\n",
      "Requirement already satisfied: requests<3,>=2.32.5 in /opt/anaconda3/envs/oci-ai/lib/python3.11/site-packages (from langchain-community) (2.32.5)\n",
      "Requirement already satisfied: PyYAML>=5.3 in /opt/anaconda3/envs/oci-ai/lib/python3.11/site-packages (from langchain-community) (6.0.2)\n",
      "Requirement already satisfied: aiohttp<4.0.0,>=3.8.3 in /opt/anaconda3/envs/oci-ai/lib/python3.11/site-packages (from langchain-community) (3.12.15)\n",
      "Requirement already satisfied: tenacity!=8.4.0,<10,>=8.1.0 in /opt/anaconda3/envs/oci-ai/lib/python3.11/site-packages (from langchain-community) (9.0.0)\n",
      "Requirement already satisfied: dataclasses-json<0.7,>=0.6.7 in /opt/anaconda3/envs/oci-ai/lib/python3.11/site-packages (from langchain-community) (0.6.7)\n",
      "Requirement already satisfied: pydantic-settings<3.0.0,>=2.10.1 in /opt/anaconda3/envs/oci-ai/lib/python3.11/site-packages (from langchain-community) (2.10.1)\n",
      "Requirement already satisfied: langsmith>=0.1.125 in /opt/anaconda3/envs/oci-ai/lib/python3.11/site-packages (from langchain-community) (0.4.27)\n",
      "Requirement already satisfied: httpx-sse<1.0.0,>=0.4.0 in /opt/anaconda3/envs/oci-ai/lib/python3.11/site-packages (from langchain-community) (0.4.1)\n",
      "Requirement already satisfied: numpy>=1.26.2 in /opt/anaconda3/envs/oci-ai/lib/python3.11/site-packages (from langchain-community) (2.0.1)\n",
      "Requirement already satisfied: jsonpatch<2.0,>=1.33 in /opt/anaconda3/envs/oci-ai/lib/python3.11/site-packages (from langchain-core) (1.33)\n",
      "Requirement already satisfied: typing-extensions>=4.7 in /opt/anaconda3/envs/oci-ai/lib/python3.11/site-packages (from langchain-core) (4.15.0)\n",
      "Requirement already satisfied: packaging>=23.2 in /opt/anaconda3/envs/oci-ai/lib/python3.11/site-packages (from langchain-core) (25.0)\n",
      "Requirement already satisfied: pydantic>=2.7.4 in /opt/anaconda3/envs/oci-ai/lib/python3.11/site-packages (from langchain-core) (2.11.7)\n",
      "Requirement already satisfied: aiohappyeyeballs>=2.5.0 in /opt/anaconda3/envs/oci-ai/lib/python3.11/site-packages (from aiohttp<4.0.0,>=3.8.3->langchain-community) (2.6.1)\n",
      "Requirement already satisfied: aiosignal>=1.4.0 in /opt/anaconda3/envs/oci-ai/lib/python3.11/site-packages (from aiohttp<4.0.0,>=3.8.3->langchain-community) (1.4.0)\n",
      "Requirement already satisfied: attrs>=17.3.0 in /opt/anaconda3/envs/oci-ai/lib/python3.11/site-packages (from aiohttp<4.0.0,>=3.8.3->langchain-community) (24.3.0)\n",
      "Requirement already satisfied: frozenlist>=1.1.1 in /opt/anaconda3/envs/oci-ai/lib/python3.11/site-packages (from aiohttp<4.0.0,>=3.8.3->langchain-community) (1.7.0)\n",
      "Requirement already satisfied: multidict<7.0,>=4.5 in /opt/anaconda3/envs/oci-ai/lib/python3.11/site-packages (from aiohttp<4.0.0,>=3.8.3->langchain-community) (6.6.4)\n",
      "Requirement already satisfied: propcache>=0.2.0 in /opt/anaconda3/envs/oci-ai/lib/python3.11/site-packages (from aiohttp<4.0.0,>=3.8.3->langchain-community) (0.3.2)\n",
      "Requirement already satisfied: yarl<2.0,>=1.17.0 in /opt/anaconda3/envs/oci-ai/lib/python3.11/site-packages (from aiohttp<4.0.0,>=3.8.3->langchain-community) (1.20.1)\n",
      "Requirement already satisfied: marshmallow<4.0.0,>=3.18.0 in /opt/anaconda3/envs/oci-ai/lib/python3.11/site-packages (from dataclasses-json<0.7,>=0.6.7->langchain-community) (3.26.1)\n",
      "Requirement already satisfied: typing-inspect<1,>=0.4.0 in /opt/anaconda3/envs/oci-ai/lib/python3.11/site-packages (from dataclasses-json<0.7,>=0.6.7->langchain-community) (0.9.0)\n",
      "Requirement already satisfied: jsonpointer>=1.9 in /opt/anaconda3/envs/oci-ai/lib/python3.11/site-packages (from jsonpatch<2.0,>=1.33->langchain-core) (3.0.0)\n",
      "Requirement already satisfied: langchain-text-splitters<1.0.0,>=0.3.9 in /opt/anaconda3/envs/oci-ai/lib/python3.11/site-packages (from langchain<2.0.0,>=0.3.27->langchain-community) (0.3.11)\n",
      "Requirement already satisfied: annotated-types>=0.6.0 in /opt/anaconda3/envs/oci-ai/lib/python3.11/site-packages (from pydantic>=2.7.4->langchain-core) (0.7.0)\n",
      "Requirement already satisfied: pydantic-core==2.33.2 in /opt/anaconda3/envs/oci-ai/lib/python3.11/site-packages (from pydantic>=2.7.4->langchain-core) (2.33.2)\n",
      "Requirement already satisfied: typing-inspection>=0.4.0 in /opt/anaconda3/envs/oci-ai/lib/python3.11/site-packages (from pydantic>=2.7.4->langchain-core) (0.4.1)\n",
      "Requirement already satisfied: python-dotenv>=0.21.0 in /opt/anaconda3/envs/oci-ai/lib/python3.11/site-packages (from pydantic-settings<3.0.0,>=2.10.1->langchain-community) (1.1.1)\n",
      "Requirement already satisfied: charset_normalizer<4,>=2 in /opt/anaconda3/envs/oci-ai/lib/python3.11/site-packages (from requests<3,>=2.32.5->langchain-community) (3.3.2)\n",
      "Requirement already satisfied: idna<4,>=2.5 in /opt/anaconda3/envs/oci-ai/lib/python3.11/site-packages (from requests<3,>=2.32.5->langchain-community) (3.7)\n",
      "Requirement already satisfied: urllib3<3,>=1.21.1 in /opt/anaconda3/envs/oci-ai/lib/python3.11/site-packages (from requests<3,>=2.32.5->langchain-community) (2.5.0)\n",
      "Requirement already satisfied: certifi>=2017.4.17 in /opt/anaconda3/envs/oci-ai/lib/python3.11/site-packages (from requests<3,>=2.32.5->langchain-community) (2025.8.3)\n",
      "Requirement already satisfied: mypy-extensions>=0.3.0 in /opt/anaconda3/envs/oci-ai/lib/python3.11/site-packages (from typing-inspect<1,>=0.4.0->dataclasses-json<0.7,>=0.6.7->langchain-community) (1.1.0)\n",
      "Requirement already satisfied: cryptography<46.0.0,>=3.2.1 in /opt/anaconda3/envs/oci-ai/lib/python3.11/site-packages (from oci) (41.0.7)\n",
      "Requirement already satisfied: pyOpenSSL<25.0.0,>=17.5.0 in /opt/anaconda3/envs/oci-ai/lib/python3.11/site-packages (from oci) (23.2.0)\n",
      "Requirement already satisfied: python-dateutil<3.0.0,>=2.5.3 in /opt/anaconda3/envs/oci-ai/lib/python3.11/site-packages (from oci) (2.9.0.post0)\n",
      "Requirement already satisfied: pytz>=2016.10 in /opt/anaconda3/envs/oci-ai/lib/python3.11/site-packages (from oci) (2025.2)\n",
      "Requirement already satisfied: circuitbreaker<3.0.0,>=1.3.1 in /opt/anaconda3/envs/oci-ai/lib/python3.11/site-packages (from oci) (1.4.0)\n",
      "Requirement already satisfied: cffi>=1.12 in /opt/anaconda3/envs/oci-ai/lib/python3.11/site-packages (from cryptography<46.0.0,>=3.2.1->oci) (1.17.1)\n",
      "Requirement already satisfied: six>=1.5 in /opt/anaconda3/envs/oci-ai/lib/python3.11/site-packages (from python-dateutil<3.0.0,>=2.5.3->oci) (1.17.0)\n",
      "Requirement already satisfied: pycparser in /opt/anaconda3/envs/oci-ai/lib/python3.11/site-packages (from cffi>=1.12->cryptography<46.0.0,>=3.2.1->oci) (2.21)\n",
      "Requirement already satisfied: httpx<1,>=0.23.0 in /opt/anaconda3/envs/oci-ai/lib/python3.11/site-packages (from langsmith>=0.1.125->langchain-community) (0.28.1)\n",
      "Requirement already satisfied: orjson>=3.9.14 in /opt/anaconda3/envs/oci-ai/lib/python3.11/site-packages (from langsmith>=0.1.125->langchain-community) (3.11.3)\n",
      "Requirement already satisfied: requests-toolbelt>=1.0.0 in /opt/anaconda3/envs/oci-ai/lib/python3.11/site-packages (from langsmith>=0.1.125->langchain-community) (1.0.0)\n",
      "Requirement already satisfied: zstandard>=0.23.0 in /opt/anaconda3/envs/oci-ai/lib/python3.11/site-packages (from langsmith>=0.1.125->langchain-community) (0.25.0)\n",
      "Requirement already satisfied: anyio in /opt/anaconda3/envs/oci-ai/lib/python3.11/site-packages (from httpx<1,>=0.23.0->langsmith>=0.1.125->langchain-community) (4.10.0)\n",
      "Requirement already satisfied: httpcore==1.* in /opt/anaconda3/envs/oci-ai/lib/python3.11/site-packages (from httpx<1,>=0.23.0->langsmith>=0.1.125->langchain-community) (1.0.9)\n",
      "Requirement already satisfied: h11>=0.16 in /opt/anaconda3/envs/oci-ai/lib/python3.11/site-packages (from httpcore==1.*->httpx<1,>=0.23.0->langsmith>=0.1.125->langchain-community) (0.16.0)\n",
      "Requirement already satisfied: sniffio>=1.1 in /opt/anaconda3/envs/oci-ai/lib/python3.11/site-packages (from anyio->httpx<1,>=0.23.0->langsmith>=0.1.125->langchain-community) (1.3.1)\n"
     ]
    }
   ],
   "source": [
    "!pip install tavily-python\n",
    "!pip install -U langchain-community langchain-core oci"
   ]
  },
  {
   "cell_type": "code",
   "execution_count": 19,
   "id": "af26ee66",
   "metadata": {},
   "outputs": [],
   "source": [
    "import requests\n",
    "from langchain_core.tools import tool\n",
    "from typing import Dict, List\n",
    "import re\n",
    "from tavily import TavilyClient\n",
    "import oci\n",
    "import json\n",
    "from oci.auth.signers import get_resource_principals_signer\n",
    "from oci.config import from_file\n",
    "from langchain_core.messages import HumanMessage\n",
    "from langchain_community.chat_models import ChatOCIGenAI\n",
    "from langchain.agents import AgentExecutor, create_react_agent\n",
    "from langchain_core.prompts import PromptTemplate\n",
    "from IPython.display import Markdown, display\n",
    "import json\n"
   ]
  },
  {
   "cell_type": "markdown",
   "id": "af871c27",
   "metadata": {},
   "source": [
    "Nuestro agente necesita acceso a la web para acceder a las últimas noticias del tema que le hemos indicado, para esto, es necesario configurar una herramienta que le permita a nuestro agente navegar por portales de noticias, por eso usaremos [Tavily](https://www.tavily.com/).\n",
    "\n",
    "## 🪪 Registro en Tavily (paso a paso)\n",
    "\n",
    "1) Abre **https://app.tavily.com/home** y haz clic en **Sign Up**. Verifica tu correo electrónico para activar la cuenta. ![image1](./images/tavily_signup.png)\n",
    "2) Inicia sesión: en la **página principal** verás tu **API Key**. Haz **Copy** para copiarla. ![image2](./images/api_key.png)\n"
   ]
  },
  {
   "cell_type": "code",
   "execution_count": 3,
   "id": "bca1aebc",
   "metadata": {},
   "outputs": [],
   "source": [
    "# Pega la API Key de Tavily aquí\n",
    "TAVILY_API_KEY = \"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\""
   ]
  },
  {
   "cell_type": "code",
   "execution_count": 4,
   "id": "91d1cb58",
   "metadata": {},
   "outputs": [],
   "source": [
    "assert TAVILY_API_KEY != \"pega_aqui_tu_api_key\", \"Por favor, pega tu API Key de Tavily en la variable TAVILY_API_KEY\""
   ]
  },
  {
   "cell_type": "code",
   "execution_count": 20,
   "id": "a54d6a7b-5df0-4844-82a4-c08f81aa74a7",
   "metadata": {
    "tags": []
   },
   "outputs": [],
   "source": [
    "COLOMBIA_PARO_DOMAINS = [\n",
    "    \"bogota.gov.co\", \"larepublica.co\", \"eltiempo.com\", \"semana.com\", \"noticiascaracol.com\", \"elcolombiano.com\", \"rcnradio.com\", \"elespectador.com\", \"las2orillas.co\", \"bluradio.com\", \"ambientarteradio.com\", \"elnuevosiglo.com.co\", \"pulzo.com\", \"lasillavacia.com\"\n",
    "]\n",
    "@tool\n",
    "def get_paro_comprehensive_news(pregunta:str=\"Horarios, agenda, causas y afectaciones del paro de transporte de Septiembre en Bogotá\") -> str:\n",
    "    \"\"\"Devuelve info/noticias de horarios, agenda, causas y afectaciones del paro de transporte de Septiembre en Bogotá.\"\"\"\n",
    "\n",
    "    client = TavilyClient(TAVILY_API_KEY)\n",
    "    response = client.search(\n",
    "    query=pregunta,\n",
    "    #include_domains=CHILE_FIESTAS_DOMAINS,\n",
    "    #topic=\"news\",\n",
    "    #days=45,\n",
    "    #max_results=10\n",
    "    )\n",
    "    return response"
   ]
  },
  {
   "cell_type": "markdown",
   "id": "00cd285f-a7bd-4102-9457-b75dd188fc61",
   "metadata": {},
   "source": [
    "## Configuración de la autenticación del SDK de OCI"
   ]
  },
  {
   "cell_type": "markdown",
   "id": "da16013c",
   "metadata": {},
   "source": [
    "Desde este notebook es necesario acceder a algunos servicios de Oracle, como el servicio de Generative AI, aunque ejecutes este notebook en cloud o de forma local, es necesario configurar las credenciales en la máquina que realiza el consumo del servicio. \n",
    "\n",
    "```\n",
    "En los pasos anteriores fue necesario descargar un archivo terminado en .pem y copiar una configuración con el siguiente estilo\n",
    "[DEFAULT]\n",
    "user=ocid1.user.oc1..\n",
    "fingerprint=95:e1:09\n",
    "tenancy=ocid1.tenancy.oc1..\n",
    "region= \n",
    "```\n",
    "\n",
    "A continuación usaremos esos objetos."
   ]
  },
  {
   "cell_type": "code",
   "execution_count": 6,
   "id": "4dbc5c76-da7c-4bba-98ae-9649a6c289a5",
   "metadata": {
    "tags": []
   },
   "outputs": [
    {
     "name": "stdout",
     "output_type": "stream",
     "text": [
      "mkdir: /home/datascience: Operation not supported\n"
     ]
    }
   ],
   "source": [
    "# crea carpeta y permisos\n",
    "!mkdir -p /home/datascience/.oci"
   ]
  },
  {
   "cell_type": "code",
   "execution_count": 7,
   "id": "cb7f5c13-2ba1-46b9-8f8e-1e8bf39db2f4",
   "metadata": {
    "tags": []
   },
   "outputs": [
    {
     "name": "stdout",
     "output_type": "stream",
     "text": [
      "/Users/valefeve\n",
      "total 864\n",
      "drwxr-x---+ 51 valefeve  staff    1632 Sep 16 15:36 \u001b[1m\u001b[36m.\u001b[m\u001b[m\n",
      "drwxr-xr-x   5 root      admin     160 Sep  9 05:51 \u001b[1m\u001b[36m..\u001b[m\u001b[m\n",
      "-r--------   1 valefeve  staff       7 Sep  7 15:11 .CFUserTextEncoding\n",
      "-rw-r--r--@  1 valefeve  staff   18436 Sep 16 14:58 .DS_Store\n",
      "drwx------+ 36 valefeve  staff    1152 Sep 15 21:06 \u001b[1m\u001b[36m.Trash\u001b[m\u001b[m\n",
      "drwxr-xr-x   4 valefeve  staff     128 Sep  9 15:29 \u001b[1m\u001b[36m.anaconda\u001b[m\u001b[m\n",
      "-rw-r--r--   1 valefeve  staff     618 Sep  8 07:16 .anyconnect\n",
      "-rw-r--r--   1 valefeve  staff     447 Sep  9 15:25 .bash_profile\n",
      "drwxr-xr-x@  5 valefeve  staff     160 Sep 14 19:46 \u001b[1m\u001b[36m.cache\u001b[m\u001b[m\n",
      "drwxr-xr-x   5 valefeve  staff     160 Sep  8 07:52 \u001b[1m\u001b[36m.cisco\u001b[m\u001b[m\n",
      "drwxr-xr-x   5 valefeve  staff     160 Sep 10 09:20 \u001b[1m\u001b[36m.conda\u001b[m\u001b[m\n",
      "-rw-r--r--   1 valefeve  staff      23 Sep  9 15:30 .condarc\n",
      "drwxr-xr-x@  6 valefeve  staff     192 Sep 14 19:46 \u001b[1m\u001b[36m.config\u001b[m\u001b[m\n",
      "drwxr-xr-x   3 valefeve  staff      96 Sep  9 15:29 \u001b[1m\u001b[36m.continuum\u001b[m\u001b[m\n",
      "-rw-r--r--@  1 valefeve  staff     222 Sep 15 11:17 .gitconfig\n",
      "drwxr-xr-x@  3 valefeve  staff      96 Sep 12 13:59 \u001b[1m\u001b[36m.ipython\u001b[m\u001b[m\n",
      "drwxr-xr-x@  4 valefeve  staff     128 Sep 14 19:46 \u001b[1m\u001b[36m.local\u001b[m\u001b[m\n",
      "drwxr-xr-x@  4 valefeve  staff     128 Sep 13 14:17 \u001b[1m\u001b[36m.matplotlib\u001b[m\u001b[m\n",
      "drwxr-xr-x@ 12 valefeve  staff     384 Sep 16 15:04 \u001b[1m\u001b[36m.n8n\u001b[m\u001b[m\n",
      "-rw-------@  1 valefeve  staff      11 Sep 11 11:37 .node_repl_history\n",
      "drwxr-xr-x@  7 valefeve  staff     224 Sep 11 11:39 \u001b[1m\u001b[36m.npm\u001b[m\u001b[m\n",
      "drwxr-xr-x@  8 valefeve  staff     256 Sep 15 08:44 \u001b[1m\u001b[36m.oci\u001b[m\u001b[m\n",
      "drwxr-xr-x@ 25 valefeve  staff     800 Sep 12 18:12 \u001b[1m\u001b[36m.oh-my-zsh\u001b[m\u001b[m\n",
      "-rw-------@  1 valefeve  staff     515 Sep 10 12:38 .python_history\n",
      "drwx------@  7 valefeve  staff     224 Sep 11 11:21 \u001b[1m\u001b[36m.ssh\u001b[m\u001b[m\n",
      "drwxr-xr-x@  4 valefeve  staff     128 Sep  9 15:35 \u001b[1m\u001b[36m.streamlit\u001b[m\u001b[m\n",
      "-rw-r--r--   1 valefeve  staff     281 Sep  9 15:25 .tcshrc\n",
      "-rw-------@  1 valefeve  staff   11947 Sep 14 19:27 .viminfo\n",
      "drwxr-xr-x   3 valefeve  staff      96 Sep  8 07:52 \u001b[1m\u001b[36m.vpn\u001b[m\u001b[m\n"
     ]
    }
   ],
   "source": [
    "# Ver tu HOME y listar (incluye ocultos)\n",
    "!echo $HOME\n",
    "!ls -la $HOME | head -n 30"
   ]
  },
  {
   "cell_type": "code",
   "execution_count": null,
   "id": "0dba1b9b-0309-4677-ab7b-36a9b9e7066b",
   "metadata": {
    "tags": []
   },
   "outputs": [],
   "source": [
    "!mkdir -p ~/.oci\n",
    "!ls -la ~/.oci\n"
   ]
  },
  {
   "cell_type": "markdown",
   "id": "693053ee",
   "metadata": {},
   "source": [
    "Ahora vamos a ubicar la llave privada que descargamos en los pasos anteriores al generar el API Key. El archivo tendrá un nombre similar a “tu_usuario-año-mes-diaTHH_MM_SS.XXX.pem”.\n",
    "\n",
    "Este archivo debe renombrarse como “oci_api_key.pem” y cargarse en Data Science utilizando la opción “Upload Files”, o bien arrastrándolo directamente en el menú izquierdo del navegador.\n",
    "\n",
    "Una vez que el archivo esté cargado, podremos proceder con la ejecución de la siguiente línea."
   ]
  },
  {
   "cell_type": "code",
   "execution_count": null,
   "id": "951f2815-054d-4dc8-9529-2a73265a156e",
   "metadata": {
    "tags": []
   },
   "outputs": [],
   "source": [
    "!mv ~/oci_api_key.pem ~/.oci/oci_api_key.pem\n",
    "!chmod 600 ~/.oci/oci_api_key.pem\n",
    "!ls -la ~/.oci"
   ]
  },
  {
   "cell_type": "markdown",
   "id": "777c7933",
   "metadata": {},
   "source": [
    "A continuación, crearemos el archivo de configuración en la ruta ~/.oci/config, vamos a copiar los valores de la configuración mostrada en pantalla y a reemplazarlos en la siguiente línea.\n",
    "\n",
    "Reemplazaremos _ocid1.user.oc1.._ por el ocid del usuario mostrado en pantalla\n",
    "Reemplazaremos _fingerprint_ por el figerprint mostrado en pantalla\n",
    "Reemplazaremos _fingerprint_ por el figerprint mostrado en pantalla\n",
    "Reemplazaremos _fingerprint_ por el figerprint mostrado en pantalla\n",
    "🚨 No reemplazaremos _key_file_ por ninguna ruta si estamos ejecutando este notebook en DataScience. Si queremos ejecutar este notebook de forma local, podemos reemplazar la ruta por ~/.oci/nombre_de_la_key.pem "
   ]
  },
  {
   "cell_type": "code",
   "execution_count": null,
   "id": "3aa8abdf-a239-430b-9f57-2380ff1995bb",
   "metadata": {
    "tags": []
   },
   "outputs": [],
   "source": [
    "%%bash\n",
    "cat > ~/.oci/config <<'CFG'\n",
    "[DEFAULT]\n",
    "user=ocid1.user.oc1..\n",
    "fingerprint=95:e1:09\n",
    "tenancy=ocid1.tenancy.oc1..\n",
    "region=\n",
    "key_file=/home/datascience/.oci/oci_api_key.pem\n",
    "CFG\n",
    "\n",
    "echo \"Config creado en ~/.oci/config\"\n",
    "cat ~/.oci/config | sed 's/fingerprint=.*/fingerprint=<oculto>/'"
   ]
  },
  {
   "cell_type": "code",
   "execution_count": null,
   "id": "9fe49d86-3bdf-42c8-9c17-9673a9541414",
   "metadata": {
    "tags": []
   },
   "outputs": [],
   "source": [
    "# Quita posibles finales de línea de Windows (CRLF)\n",
    "!sed -i 's/\\r$//' ~/.oci/config\n",
    "\n",
    "# mostrar\n",
    "!sed -n '1,200p' ~/.oci/config"
   ]
  },
  {
   "cell_type": "code",
   "execution_count": 21,
   "id": "7ff44910-0d86-4f3b-b66c-b6906aca9a15",
   "metadata": {
    "tags": []
   },
   "outputs": [],
   "source": [
    "config = from_file()"
   ]
  },
  {
   "cell_type": "code",
   "execution_count": 22,
   "id": "0046ac37",
   "metadata": {},
   "outputs": [],
   "source": [
    "# Descomenta únicamente la línea que corresponda a tu región\n",
    "#REGION = \"sa-saopaulo-1\"\n",
    "REGION = \"us-chicago-1\"\n",
    "#REGION = \"uk-london-1\"\n",
    "#REGION = \"eu-frankfurt-1\"\n",
    "#REGION = \"ap-osaka-1\""
   ]
  },
  {
   "cell_type": "code",
   "execution_count": 23,
   "id": "01467f16",
   "metadata": {},
   "outputs": [],
   "source": [
    "assert REGION in [\"sa-saopaulo-1\", \"us-chicago-1\", \"uk-london-1\", \"eu-frankfurt-1\", \"ap-osaka-1\"], \"Por favor, descomenta la línea que corresponda a tu región\""
   ]
  },
  {
   "cell_type": "code",
   "execution_count": 24,
   "id": "b9f104cc",
   "metadata": {},
   "outputs": [],
   "source": [
    "# Aquí debes pegar el OCID de tu compartimento\n",
    "# Encuentra el OCID de tu compartimento en la consola de Oracle Cloud, en la sección de Compartments https://cloud.oracle.com/identity/compartments\n",
    "COMPARTMENT_ID = \"ocid1.compartment.oc1..aaaaaaaafaniufr3t6azq5kzu4nfwcjvg4t2whrdbfa75kfqjpdjlxefbouq\""
   ]
  },
  {
   "cell_type": "code",
   "execution_count": 25,
   "id": "efedd31c-03e7-473a-80f3-e42d9d5e2bcb",
   "metadata": {
    "tags": []
   },
   "outputs": [],
   "source": [
    "SERVICE_ENDPOINT = f\"https://inference.generativeai.{REGION}.oci.oraclecloud.com\"\n",
    "MODEL_ID = \"ocid1.generativeaimodel.oc1.us-chicago-1.amaaaaaask7dceya6dvgvvj3ovy4lerdl6fvx525x3yweacnrgn4ryfwwcoq\""
   ]
  },
  {
   "cell_type": "code",
   "execution_count": 26,
   "id": "a4512fb9",
   "metadata": {},
   "outputs": [
    {
     "name": "stdout",
     "output_type": "stream",
     "text": [
      "{\n",
      "  \"response\": \"Hola, sí, puedo ayudarte con información sobre el paro del 16 de septiembre en Bogotá, aunque debo aclarar que mi conocimiento está actualizado hasta octubre de 2023, por lo que si te refieres a un evento de 2024 o posterior, es posible que necesites consultar fuentes más recientes.\\n\\nSi hablas del paro del 16 de septiembre de un año reciente, como 2021 o 2022, es probable que esté relacionado con manifestaciones convocadas por sindicatos, organizaciones sociales o estudiantiles en Colombia, que suelen organizarse para protestar contra políticas gubernamentales, reformas económicas (como la tributaria o laboral) o exigir mejoras en educación, salud y derechos laborales. En Bogotá, estas movilizaciones suelen concentrarse en puntos clave como la Plaza de Bolívar, la Carrera Séptima y otros lugares emblemáticos, y pueden generar afectaciones en la movilidad, especialmente en el sistema de TransMilenio y el tráfico vehicular.\\n\\n### Contexto general de paros en Bogotá:\\n- **Organizadores:** Frecuentemente, estas protestas son lideradas por centrales obreras como la CUT (Central Unitaria de Trabajadores), FECODE (Federación Colombiana de Trabajadores de la Educación) y movimientos estudiantiles.\\n- **Motivos comunes:** Rechazo a reformas gubernamentales, aumento del costo de vida, defensa de derechos laborales, entre otros.\\n- **Impacto:** Es usual que haya cierres de vías, retrasos en el transporte público y, en algunos casos, enfrentamientos entre manifestantes y la fuerza pública (ESMAD o Policía Nacional).\\n- **Medidas de la Alcaldía:** Normalmente, la Alcaldía de Bogotá activa planes de contingencia, refuerza la seguridad y emite comunicados sobre rutas alternas o cierres viales.\\n\\nSi tienes un año específico en mente o más detalles sobre el paro del 16 de septiembre al que te refieres, puedo intentar profundizar. También te recomendaría revisar fuentes como:\\n\\n- **Medios locales:** El Tiempo, El Espectador, Caracol Radio o RCN Radio suelen cubrir estos eventos en tiempo real.\\n- **Redes sociales de la Alcaldía de Bogotá o TransMilenio:** Para información sobre movilidad y cierres.\\n- **Páginas de sindicatos o movimientos sociales:** Si buscas las razones o convocatorias específicas.\\n\\n¿Puedes darme más contexto o confirmar el año del paro que te interesa? Así puedo ser más preciso. 😊\"\n",
      "}\n"
     ]
    }
   ],
   "source": [
    "if MODEL_ID is None:\n",
    "    from oci.generative_ai import GenerativeAiClient\n",
    "    genai = GenerativeAiClient()\n",
    "    models = genai.list_models(\n",
    "        compartment_id=COMPARTMENT_ID,\n",
    "        capability=[\"CHAT\"],\n",
    "        lifecycle_state=\"ACTIVE\"\n",
    "    ).data.items\n",
    "    assert models, \"No hay modelos CHAT visibles en el compartimento. Revisa permisos/compartimento.\"\n",
    "    MODEL_ID = models[0].id\n",
    "    print(\"Usando modelo:\", MODEL_ID)\n",
    "\n",
    "# === Cliente de inferencia ===\n",
    "inf = oci.generative_ai_inference.GenerativeAiInferenceClient(\n",
    "    config=config,\n",
    "    service_endpoint=SERVICE_ENDPOINT\n",
    ")\n",
    "\n",
    "# === Prompt del usuario ===\n",
    "user_input = \"hola, tienes información del paro del 16 de Septiembre en Bogotá?\"\n",
    "\n",
    "# --- Construcción del request ---\n",
    "content = oci.generative_ai_inference.models.TextContent(text=user_input)\n",
    "message = oci.generative_ai_inference.models.Message(role=\"USER\", content=[content])\n",
    "\n",
    "chat_request = oci.generative_ai_inference.models.GenericChatRequest(\n",
    "    api_format=oci.generative_ai_inference.models.BaseChatRequest.API_FORMAT_GENERIC,\n",
    "    messages=[message],\n",
    "    max_tokens=600,\n",
    "    temperature=1.0,\n",
    "    frequency_penalty=0.0,\n",
    "    presence_penalty=0.0,\n",
    "    top_p=0.75,\n",
    ")\n",
    "\n",
    "chat_detail = oci.generative_ai_inference.models.ChatDetails(\n",
    "    serving_mode=oci.generative_ai_inference.models.OnDemandServingMode(model_id=MODEL_ID),\n",
    "    chat_request=chat_request,\n",
    "    compartment_id=COMPARTMENT_ID,\n",
    ")\n",
    "\n",
    "# === Llamada ===\n",
    "resp = inf.chat(chat_detail)\n",
    "\n",
    "# === Resultado ===\n",
    "choices = resp.data.chat_response.choices\n",
    "response_text = choices[0].message.content[0].text if choices else \"No se generó respuesta.\"\n",
    "print(json.dumps({\"response\": response_text}, indent=2, ensure_ascii=False))"
   ]
  },
  {
   "cell_type": "markdown",
   "id": "89e084ae-d7c2-4e21-b6f7-56f14e8507b6",
   "metadata": {},
   "source": [
    "## 🤖 Creación del Agente LangChain"
   ]
  },
  {
   "cell_type": "code",
   "execution_count": 27,
   "id": "b33d7b28-e4f6-4bbd-b54b-785f34b6f59c",
   "metadata": {
    "tags": []
   },
   "outputs": [
    {
     "name": "stdout",
     "output_type": "stream",
     "text": [
      "\n",
      "\n",
      "\u001b[1m> Entering new AgentExecutor chain...\u001b[0m\n",
      "\u001b[32;1m\u001b[1;3mThought: Para responder a la pregunta sobre la causa del paro de transporte del 16 de septiembre en Bogotá, necesito obtener información actualizada y oficial sobre los motivos detrás de este evento.\n",
      "\n",
      "Action: get_paro_comprehensive_news\n",
      "Action Input: \"causas del paro de transporte del 16 de septiembre en Bogotá\"\n",
      "\u001b[0m\u001b[36;1m\u001b[1;3m{'query': 'causas del paro de transporte del 16 de septiembre en Bogotá\"\\n', 'follow_up_questions': None, 'answer': None, 'images': [], 'results': [{'url': 'https://360radio.com.co/las-razones-detras-del-paro-de-este-16-de-septiembre-en-bogota/193844/', 'title': 'Las razones detrás del paro de este 16 de septiembre en ...', 'content': '1 day ago—ElparoenBogotáeste16 de septiembrese da por inconformidades con comparendos, fotomultas, movilidad y la falta de diálogo con la Alcaldía.', 'score': 0.8482825, 'raw_content': None}, {'url': 'https://caracol.com.co/2025/09/15/a-que-hora-inicia-el-paro-del-16-de-septiembre-en-bogota-razones-y-ultimas-noticias/', 'title': 'A qué hora inicia el PARO del 16 de septiembre en Bogotá', 'content': '1 day ago—Razones delparode conductores el16 de septiembre· Porque la plata deBogotáse pierde en corrupción y contratos turbios de movilidad. · Porque', 'score': 0.81025416, 'raw_content': None}, {'url': 'https://www.infobae.com/colombia/2025/09/15/18-razones-por-las-que-conductores-convocan-masiva-movilizacion-en-bogota-el-proximo-16-de-septiembre/', 'title': '18 razones por las que conductores convocan masiva ...', 'content': 'Conductores y gremios del transporte en Bogotá anunciaron una gran movilización el 16 de septiembre para expresar su inconformidad con la gestión de la ciudad en temas de movilidad, seguridad y administración pública. * **“Porque el alcalde\\xa0Galán se niega a firmar el decreto que garantiza la voz de los conductores en las decisiones de movilidad“**: El\\xa0alcalde Carlos Fernando Galán se niega a firmar el decreto\\xa0que otorgaría a los conductores un asiento en los espacios de decisión sobre movilidad, sustraendo la representación directa del sector. * **“Porque el alcalde\\xa0piensa más en comparendos e impuestos que en salvar vidas en las vías”**: El gremio considera que\\xa0el enfoque de la administración se centra en aumentar el recaudo por multas e impuestos, postergando la formulación de medidas para reducir la accidentalidad y proteger vidas.', 'score': 0.76512027, 'raw_content': None}, {'url': 'https://www.radionacional.co/noticias-colombia/bogota-tendra-paro-de-motociclistas-y-conductores-el-16-de-septiembre', 'title': 'Bogotá tendrá paro de motociclistas y conductores el 16 ...', 'content': '24 hours ago—Motociclistas y otros gremios deltransporteanunciaron unparoeste16 de septiembre en Bogotá, en rechazo a comparendos abusivos,', 'score': 0.7471924, 'raw_content': None}, {'url': 'https://www.eltiempo.com/bogota/protestas-de-este-martes-16-de-septiembre-en-bogota-por-abusos-en-gruas-y-patios-y-procedimientos-de-transito-estos-son-los-puntos-de-concentracion-3490986', 'title': 'Protestas de hoy 16 de septiembre en Bogotá por abusos ...', 'content': '6 hours ago—Protestas de hoy16 de septiembre en Bogotápor abusos en grúas, patios y procedimientos de tránsito: estas son las zonas más afectadas', 'score': 0.6554468, 'raw_content': None}], 'response_time': 1.08, 'request_id': '84327097-9c62-49da-b971-d0bbd1bb57dc'}\u001b[0m\u001b[32;1m\u001b[1;3mQuestion: Cuál es la causa del paro de transporte del 16 de septiembre en Bogotá?\n",
      "Thought: Para responder a la pregunta sobre la causa del paro de transporte del 16 de septiembre en Bogotá, necesito obtener información actualizada y oficial sobre los motivos detrás de este evento.\n",
      "Action: get_paro_comprehensive_news\n",
      "Action Input: \"causas del paro de transporte del 16 de septiembre en Bogotá\"\u001b[0m\u001b[36;1m\u001b[1;3m{'query': 'causas del paro de transporte del 16 de septiembre en Bogotá', 'follow_up_questions': None, 'answer': None, 'images': [], 'results': [{'url': 'https://canaltrece.com.co/noticias/paro-de-conductores-en-bogota-este-16-de-septiembre-motivos-y-puntos-clave/', 'title': 'Paro de conductores en Bogotá este 16 de septiembre - Canal Trece', 'content': 'Razones del paro ; Fotomultas y cámaras de detección que, según los gremios, tienen un fin recaudatorio. ; Mal estado de la malla vial, con huecos', 'score': 0.8390101, 'raw_content': None}, {'url': 'https://www.radionacional.co/noticias-colombia/bogota-tendra-paro-de-motociclistas-y-conductores-el-16-de-septiembre', 'title': 'Bogotá tendrá paro de motociclistas y conductores el 16 de ...', 'content': 'Motociclistas y otros gremios del transporte anunciaron un paro este 16 de septiembre en Bogotá, en rechazo a comparendos abusivos,', 'score': 0.80698997, 'raw_content': None}, {'url': 'https://www.marca.com/co/2025/09/16/68c8caa5268e3eec318b4581.html', 'title': 'Paro conductores Bogotá, hoy 16 de septiembre: puntos de bloqueo ...', 'content': 'El colapso del sistema TransMilenio y la carencia de planes de contingencia para enfrentar las dificultades en el transporte público. Obras', 'score': 0.7946564, 'raw_content': None}, {'url': 'https://caracol.com.co/2025/09/15/a-que-hora-inicia-el-paro-del-16-de-septiembre-en-bogota-razones-y-ultimas-noticias/', 'title': 'A qué hora inicia el PARO del 16 de septiembre en Bogotá', 'content': 'Razones del paro de conductores el 16 de septiembre · Porque la plata de Bogotá se pierde en corrupción y contratos turbios de movilidad. · Porque', 'score': 0.79099923, 'raw_content': None}, {'url': 'https://www.infobae.com/colombia/2025/09/15/18-razones-por-las-que-conductores-convocan-masiva-movilizacion-en-bogota-el-proximo-16-de-septiembre/', 'title': '18 razones por las que conductores convocan masiva movilización ...', 'content': 'Conductores y gremios del transporte en Bogotá anunciaron una gran movilización el 16 de septiembre para expresar su inconformidad con la gestión de la ciudad en temas de movilidad, seguridad y administración pública. * **“Porque el alcalde\\xa0Galán se niega a firmar el decreto que garantiza la voz de los conductores en las decisiones de movilidad“**: El\\xa0alcalde Carlos Fernando Galán se niega a firmar el decreto\\xa0que otorgaría a los conductores un asiento en los espacios de decisión sobre movilidad, sustraendo la representación directa del sector. * **“Porque el alcalde\\xa0piensa más en comparendos e impuestos que en salvar vidas en las vías”**: El gremio considera que\\xa0el enfoque de la administración se centra en aumentar el recaudo por multas e impuestos, postergando la formulación de medidas para reducir la accidentalidad y proteger vidas.', 'score': 0.78532547, 'raw_content': None}], 'response_time': 0.92, 'request_id': '35252dd5-8909-4042-8c11-a0d0fcf4a0a0'}\u001b[0m\u001b[32;1m\u001b[1;3mQuestion: Cuál es la causa del paro de transporte del 16 de septiembre en Bogotá?\n",
      "\n",
      "Thought: Para responder a la pregunta sobre la causa del paro de transporte del 16 de septiembre en Bogotá, necesito obtener información actualizada y oficial sobre los motivos detrás de este evento.\n",
      "\n",
      "Action: get_paro_comprehensive_news\n",
      "Action Input: \"causas del paro de transporte del 16 de septiembre en Bogotá\"\n",
      "\u001b[0m\u001b[36;1m\u001b[1;3m{'query': 'causas del paro de transporte del 16 de septiembre en Bogotá\"\\n', 'follow_up_questions': None, 'answer': None, 'images': [], 'results': [{'url': 'https://360radio.com.co/las-razones-detras-del-paro-de-este-16-de-septiembre-en-bogota/193844/', 'title': 'Las razones detrás del paro de este 16 de septiembre en ...', 'content': '1 day ago—ElparoenBogotáeste16 de septiembrese da por inconformidades con comparendos, fotomultas, movilidad y la falta de diálogo con la Alcaldía.', 'score': 0.8482825, 'raw_content': None}, {'url': 'https://caracol.com.co/2025/09/15/a-que-hora-inicia-el-paro-del-16-de-septiembre-en-bogota-razones-y-ultimas-noticias/', 'title': 'A qué hora inicia el PARO del 16 de septiembre en Bogotá', 'content': '1 day ago—Razones delparode conductores el16 de septiembre· Porque la plata deBogotáse pierde en corrupción y contratos turbios de movilidad. · Porque', 'score': 0.81025416, 'raw_content': None}, {'url': 'https://www.infobae.com/colombia/2025/09/15/18-razones-por-las-que-conductores-convocan-masiva-movilizacion-en-bogota-el-proximo-16-de-septiembre/', 'title': '18 razones por las que conductores convocan masiva ...', 'content': 'Conductores y gremios del transporte en Bogotá anunciaron una gran movilización el 16 de septiembre para expresar su inconformidad con la gestión de la ciudad en temas de movilidad, seguridad y administración pública. * **“Porque el alcalde\\xa0Galán se niega a firmar el decreto que garantiza la voz de los conductores en las decisiones de movilidad“**: El\\xa0alcalde Carlos Fernando Galán se niega a firmar el decreto\\xa0que otorgaría a los conductores un asiento en los espacios de decisión sobre movilidad, sustraendo la representación directa del sector. * **“Porque el alcalde\\xa0piensa más en comparendos e impuestos que en salvar vidas en las vías”**: El gremio considera que\\xa0el enfoque de la administración se centra en aumentar el recaudo por multas e impuestos, postergando la formulación de medidas para reducir la accidentalidad y proteger vidas.', 'score': 0.76512027, 'raw_content': None}, {'url': 'https://www.radionacional.co/noticias-colombia/bogota-tendra-paro-de-motociclistas-y-conductores-el-16-de-septiembre', 'title': 'Bogotá tendrá paro de motociclistas y conductores el 16 ...', 'content': '24 hours ago—Motociclistas y otros gremios deltransporteanunciaron unparoeste16 de septiembre en Bogotá, en rechazo a comparendos abusivos,', 'score': 0.7471924, 'raw_content': None}, {'url': 'https://www.eltiempo.com/bogota/protestas-de-este-martes-16-de-septiembre-en-bogota-por-abusos-en-gruas-y-patios-y-procedimientos-de-transito-estos-son-los-puntos-de-concentracion-3490986', 'title': 'Protestas de hoy 16 de septiembre en Bogotá por abusos ...', 'content': '6 hours ago—Protestas de hoy16 de septiembre en Bogotápor abusos en grúas, patios y procedimientos de tránsito: estas son las zonas más afectadas', 'score': 0.6554468, 'raw_content': None}], 'response_time': 0.92, 'request_id': '6efcee86-06e4-4cf5-98a2-cf69ede9d96f'}\u001b[0m\u001b[32;1m\u001b[1;3mQuestion: Cuál es la causa del paro de transporte del 16 de septiembre en Bogotá?\n",
      "\n",
      "Thought: Para responder a la pregunta sobre la causa del paro de transporte del 16 de septiembre en Bogotá, necesito obtener información actualizada y oficial sobre los motivos detrás de este evento.\n",
      "\n",
      "Action: get_paro_comprehensive_news\n",
      "Action Input: \"causas del paro de transporte del 16 de septiembre en Bogotá\"\n",
      "\u001b[0m\u001b[36;1m\u001b[1;3m{'query': 'causas del paro de transporte del 16 de septiembre en Bogotá\"\\n', 'follow_up_questions': None, 'answer': None, 'images': [], 'results': [{'url': 'https://360radio.com.co/las-razones-detras-del-paro-de-este-16-de-septiembre-en-bogota/193844/', 'title': 'Las razones detrás del paro de este 16 de septiembre en ...', 'content': '1 day ago—ElparoenBogotáeste16 de septiembrese da por inconformidades con comparendos, fotomultas, movilidad y la falta de diálogo con la Alcaldía.', 'score': 0.8482825, 'raw_content': None}, {'url': 'https://caracol.com.co/2025/09/15/a-que-hora-inicia-el-paro-del-16-de-septiembre-en-bogota-razones-y-ultimas-noticias/', 'title': 'A qué hora inicia el PARO del 16 de septiembre en Bogotá', 'content': '1 day ago—Razones delparode conductores el16 de septiembre· Porque la plata deBogotáse pierde en corrupción y contratos turbios de movilidad. · Porque', 'score': 0.81025416, 'raw_content': None}, {'url': 'https://www.infobae.com/colombia/2025/09/15/18-razones-por-las-que-conductores-convocan-masiva-movilizacion-en-bogota-el-proximo-16-de-septiembre/', 'title': '18 razones por las que conductores convocan masiva ...', 'content': 'Conductores y gremios del transporte en Bogotá anunciaron una gran movilización el 16 de septiembre para expresar su inconformidad con la gestión de la ciudad en temas de movilidad, seguridad y administración pública. * **“Porque el alcalde\\xa0Galán se niega a firmar el decreto que garantiza la voz de los conductores en las decisiones de movilidad“**: El\\xa0alcalde Carlos Fernando Galán se niega a firmar el decreto\\xa0que otorgaría a los conductores un asiento en los espacios de decisión sobre movilidad, sustraendo la representación directa del sector. * **“Porque el alcalde\\xa0piensa más en comparendos e impuestos que en salvar vidas en las vías”**: El gremio considera que\\xa0el enfoque de la administración se centra en aumentar el recaudo por multas e impuestos, postergando la formulación de medidas para reducir la accidentalidad y proteger vidas.', 'score': 0.76512027, 'raw_content': None}, {'url': 'https://www.radionacional.co/noticias-colombia/bogota-tendra-paro-de-motociclistas-y-conductores-el-16-de-septiembre', 'title': 'Bogotá tendrá paro de motociclistas y conductores el 16 ...', 'content': '24 hours ago—Motociclistas y otros gremios deltransporteanunciaron unparoeste16 de septiembre en Bogotá, en rechazo a comparendos abusivos,', 'score': 0.7471924, 'raw_content': None}, {'url': 'https://www.eltiempo.com/bogota/protestas-de-este-martes-16-de-septiembre-en-bogota-por-abusos-en-gruas-y-patios-y-procedimientos-de-transito-estos-son-los-puntos-de-concentracion-3490986', 'title': 'Protestas de hoy 16 de septiembre en Bogotá por abusos ...', 'content': '6 hours ago—Protestas de hoy16 de septiembre en Bogotápor abusos en grúas, patios y procedimientos de tránsito: estas son las zonas más afectadas', 'score': 0.6554468, 'raw_content': None}], 'response_time': 0.73, 'request_id': 'e8e2db9c-618d-4f8f-a29a-7e94eb6e3499'}\u001b[0m\u001b[32;1m\u001b[1;3mQuestion: Cuál es la causa del paro de transporte del 16 de septiembre en Bogotá?\n",
      "\n",
      "Thought: Para responder a la pregunta sobre la causa del paro de transporte del 16 de septiembre en Bogotá, necesito obtener información actualizada y oficial sobre los motivos detrás de este evento.\n",
      "\n",
      "Action: get_paro_comprehensive_news\n",
      "Action Input: \"causas del paro de transporte del 16 de septiembre en Bogotá\"\n",
      "\u001b[0m\u001b[36;1m\u001b[1;3m{'query': 'causas del paro de transporte del 16 de septiembre en Bogotá\"\\n', 'follow_up_questions': None, 'answer': None, 'images': [], 'results': [{'url': 'https://360radio.com.co/las-razones-detras-del-paro-de-este-16-de-septiembre-en-bogota/193844/', 'title': 'Las razones detrás del paro de este 16 de septiembre en ...', 'content': '1 day ago—ElparoenBogotáeste16 de septiembrese da por inconformidades con comparendos, fotomultas, movilidad y la falta de diálogo con la Alcaldía.', 'score': 0.8482825, 'raw_content': None}, {'url': 'https://caracol.com.co/2025/09/15/a-que-hora-inicia-el-paro-del-16-de-septiembre-en-bogota-razones-y-ultimas-noticias/', 'title': 'A qué hora inicia el PARO del 16 de septiembre en Bogotá', 'content': '1 day ago—Razones delparode conductores el16 de septiembre· Porque la plata deBogotáse pierde en corrupción y contratos turbios de movilidad. · Porque', 'score': 0.81025416, 'raw_content': None}, {'url': 'https://www.infobae.com/colombia/2025/09/15/18-razones-por-las-que-conductores-convocan-masiva-movilizacion-en-bogota-el-proximo-16-de-septiembre/', 'title': '18 razones por las que conductores convocan masiva ...', 'content': 'Conductores y gremios del transporte en Bogotá anunciaron una gran movilización el 16 de septiembre para expresar su inconformidad con la gestión de la ciudad en temas de movilidad, seguridad y administración pública. * **“Porque el alcalde\\xa0Galán se niega a firmar el decreto que garantiza la voz de los conductores en las decisiones de movilidad“**: El\\xa0alcalde Carlos Fernando Galán se niega a firmar el decreto\\xa0que otorgaría a los conductores un asiento en los espacios de decisión sobre movilidad, sustraendo la representación directa del sector. * **“Porque el alcalde\\xa0piensa más en comparendos e impuestos que en salvar vidas en las vías”**: El gremio considera que\\xa0el enfoque de la administración se centra en aumentar el recaudo por multas e impuestos, postergando la formulación de medidas para reducir la accidentalidad y proteger vidas.', 'score': 0.76512027, 'raw_content': None}, {'url': 'https://www.radionacional.co/noticias-colombia/bogota-tendra-paro-de-motociclistas-y-conductores-el-16-de-septiembre', 'title': 'Bogotá tendrá paro de motociclistas y conductores el 16 ...', 'content': '24 hours ago—Motociclistas y otros gremios deltransporteanunciaron unparoeste16 de septiembre en Bogotá, en rechazo a comparendos abusivos,', 'score': 0.7471924, 'raw_content': None}, {'url': 'https://www.eltiempo.com/bogota/protestas-de-este-martes-16-de-septiembre-en-bogota-por-abusos-en-gruas-y-patios-y-procedimientos-de-transito-estos-son-los-puntos-de-concentracion-3490986', 'title': 'Protestas de hoy 16 de septiembre en Bogotá por abusos ...', 'content': '6 hours ago—Protestas de hoy16 de septiembre en Bogotápor abusos en grúas, patios y procedimientos de tránsito: estas son las zonas más afectadas', 'score': 0.6554468, 'raw_content': None}], 'response_time': 0.88, 'request_id': '9ac8a11b-d354-46a9-8ebc-9e9ee028da62'}\u001b[0m\u001b[32;1m\u001b[1;3mQuestion: Cuál es la causa del paro de transporte del 16 de septiembre en Bogotá?\n",
      "\n",
      "Thought: Las causas del paro de transporte del 16 de septiembre en Bogotá se deben a varias inconformidades expresadas por los conductores y gremios del transporte. \n",
      "\n",
      "Action: get_paro_comprehensive_news\n",
      "Action Input: \"causas del paro de transporte del 16 de septiembre en Bogotá\"\n",
      "\u001b[0m\u001b[36;1m\u001b[1;3m{'query': 'causas del paro de transporte del 16 de septiembre en Bogotá\"\\n', 'follow_up_questions': None, 'answer': None, 'images': [], 'results': [{'url': 'https://360radio.com.co/las-razones-detras-del-paro-de-este-16-de-septiembre-en-bogota/193844/', 'title': 'Las razones detrás del paro de este 16 de septiembre en ...', 'content': '1 day ago—ElparoenBogotáeste16 de septiembrese da por inconformidades con comparendos, fotomultas, movilidad y la falta de diálogo con la Alcaldía.', 'score': 0.8482825, 'raw_content': None}, {'url': 'https://caracol.com.co/2025/09/15/a-que-hora-inicia-el-paro-del-16-de-septiembre-en-bogota-razones-y-ultimas-noticias/', 'title': 'A qué hora inicia el PARO del 16 de septiembre en Bogotá', 'content': '1 day ago—Razones delparode conductores el16 de septiembre· Porque la plata deBogotáse pierde en corrupción y contratos turbios de movilidad. · Porque', 'score': 0.81025416, 'raw_content': None}, {'url': 'https://www.infobae.com/colombia/2025/09/15/18-razones-por-las-que-conductores-convocan-masiva-movilizacion-en-bogota-el-proximo-16-de-septiembre/', 'title': '18 razones por las que conductores convocan masiva ...', 'content': 'Conductores y gremios del transporte en Bogotá anunciaron una gran movilización el 16 de septiembre para expresar su inconformidad con la gestión de la ciudad en temas de movilidad, seguridad y administración pública. * **“Porque el alcalde\\xa0Galán se niega a firmar el decreto que garantiza la voz de los conductores en las decisiones de movilidad“**: El\\xa0alcalde Carlos Fernando Galán se niega a firmar el decreto\\xa0que otorgaría a los conductores un asiento en los espacios de decisión sobre movilidad, sustraendo la representación directa del sector. * **“Porque el alcalde\\xa0piensa más en comparendos e impuestos que en salvar vidas en las vías”**: El gremio considera que\\xa0el enfoque de la administración se centra en aumentar el recaudo por multas e impuestos, postergando la formulación de medidas para reducir la accidentalidad y proteger vidas.', 'score': 0.76512027, 'raw_content': None}, {'url': 'https://www.radionacional.co/noticias-colombia/bogota-tendra-paro-de-motociclistas-y-conductores-el-16-de-septiembre', 'title': 'Bogotá tendrá paro de motociclistas y conductores el 16 ...', 'content': '24 hours ago—Motociclistas y otros gremios deltransporteanunciaron unparoeste16 de septiembre en Bogotá, en rechazo a comparendos abusivos,', 'score': 0.7471924, 'raw_content': None}, {'url': 'https://www.eltiempo.com/bogota/protestas-de-este-martes-16-de-septiembre-en-bogota-por-abusos-en-gruas-y-patios-y-procedimientos-de-transito-estos-son-los-puntos-de-concentracion-3490986', 'title': 'Protestas de hoy 16 de septiembre en Bogotá por abusos ...', 'content': '6 hours ago—Protestas de hoy16 de septiembre en Bogotápor abusos en grúas, patios y procedimientos de tránsito: estas son las zonas más afectadas', 'score': 0.6554468, 'raw_content': None}], 'response_time': 0.81, 'request_id': 'ec2d6833-7428-4c96-b5a0-18ec3af23872'}\u001b[0m\u001b[32;1m\u001b[1;3m\u001b[0m\n",
      "\n",
      "\u001b[1m> Finished chain.\u001b[0m\n",
      "\n",
      "\n",
      "\u001b[1m> Entering new AgentExecutor chain...\u001b[0m\n",
      "\u001b[32;1m\u001b[1;3mPara responder a esta pregunta, necesito obtener información sobre el paro de transporte del 16 de septiembre en Bogotá, específicamente sobre la organización que participa en él.\n",
      "\n",
      "Action: get_paro_comprehensive_news\n",
      "Action Input: \"Organización que participa en el paro de transporte del 16 de septiembre en Bogotá\"\n",
      "\u001b[0m\u001b[36;1m\u001b[1;3m{'query': 'Organización que participa en el paro de transporte del 16 de septiembre en Bogotá\"\\n', 'follow_up_questions': None, 'answer': None, 'images': [], 'results': [{'url': 'https://www.infobae.com/colombia/2025/09/15/protesta-de-conductores-en-bogota-este-martes-16-de-septiembre-estos-seran-los-puntos-de-las-concentraciones/', 'title': 'Protesta de conductores en Bogotá este martes 16 de septiembre', 'content': 'La protesta contará con la participación de representantes de múltiples sectores: transporte escolar, grúas particulares, transporte de carga,', 'score': 0.7471924, 'raw_content': None}, {'url': 'https://www.lafm.com.co/bogota/paro-de-motociclistas-y-conductores-en-bogota-este-16-de-septiembre-hora-y-puntos-de-concentracion', 'title': 'Paro de motociclistas y conductores en Bogotá este 16 de septiembre', 'content': '¿Quiénes se suman al paro del 16 de septiembre? A la movilización se unirán distintos sectores: Conductores de taxis y transporte escolar. Grúas', 'score': 0.6693348, 'raw_content': None}, {'url': 'https://bogota.gov.co/mi-ciudad/movilidad/movilidad-bogota-y-transmilenio-por-paro-hoy-martes-16-de-septiembre', 'title': 'Movilidad Bogotá y TransMilenio por paro hoy martes 16 de ...', 'content': '**¡Así está la movilidad en Bogotá!** Hoy martes 16 de septiembre de 2025, en la ciudad gremios de taxistas, motociclistas y conductores, anunciaron una jornada de manifestaciones. ✅ Se cancelan retornos para los servicios FJ23 en estación Av. Jiménez Calle 13 (La Mariposa). Persiste la manifestación en este sector los servicios alimentadores y TransMiZonal mantienen desvíos. Se mantiene el bloqueo en la vía, los servicios de TransMiZonal siguen desvíos. La manifestación sigue en el sector, por lo que los servicios alimentadores y TransMiZonal mantienen desvíos. Al momento persiste la manifestación en este punto, continúan con desvíos los servicios alimentadores y de TransMiZonal. A la hora se presenta manifestación en la vía, los servicios de TransMiZonal y rutas alimentadoras activan desvíos en este sector.', 'score': 0.65861565, 'raw_content': None}, {'url': 'https://www.marca.com/co/2025/09/16/68c8caa5268e3eec318b4581.html', 'title': 'Paro conductores Bogotá, hoy 16 de septiembre: puntos de bloqueo ...', 'content': 'Los convocantes, que incluyen conductores de grúas, plataformas digitales, taxis, transporte escolar, domiciliarios y motociclistas, han', 'score': 0.62770075, 'raw_content': None}, {'url': 'https://www.infobae.com/colombia/2025/09/16/en-vivo-gremio-de-transportadores-adelantan-paro-en-bogota-el-16-de-septiembre/', 'title': 'Paro de transportadores en Bogotá hoy 16 de septiembre - Infobae', 'content': 'María Fernanda Ortiz, gerente de Transmílenlo, entrego un balance de la mitad de la jornada del 16 de septiembre que afecto a miles de usuarios', 'score': 0.6147415, 'raw_content': None}], 'response_time': 1.46, 'request_id': '7dedc76c-d2b0-4e09-9d2e-424acd85fa63'}\u001b[0m\u001b[32;1m\u001b[1;3mQuestion: ¿Qué organización participa en el paro?\n",
      "Thought: Para responder a esta pregunta, necesito obtener información sobre el paro de transporte del 16 de septiembre en Bogotá, específicamente sobre la organización que participa en él.\n",
      "\n",
      "Action: get_paro_comprehensive_news\n",
      "Action Input: \"Organización que participa en el paro de transporte del 16 de septiembre en Bogotá\"\n",
      "\u001b[0m\u001b[36;1m\u001b[1;3m{'query': 'Organización que participa en el paro de transporte del 16 de septiembre en Bogotá\"\\n', 'follow_up_questions': None, 'answer': None, 'images': [], 'results': [{'url': 'https://www.infobae.com/colombia/2025/09/15/protesta-de-conductores-en-bogota-este-martes-16-de-septiembre-estos-seran-los-puntos-de-las-concentraciones/', 'title': 'Protesta de conductores en Bogotá este martes 16 de septiembre', 'content': 'La protesta contará con la participación de representantes de múltiples sectores: transporte escolar, grúas particulares, transporte de carga,', 'score': 0.7471924, 'raw_content': None}, {'url': 'https://www.lafm.com.co/bogota/paro-de-motociclistas-y-conductores-en-bogota-este-16-de-septiembre-hora-y-puntos-de-concentracion', 'title': 'Paro de motociclistas y conductores en Bogotá este 16 de septiembre', 'content': '¿Quiénes se suman al paro del 16 de septiembre? A la movilización se unirán distintos sectores: Conductores de taxis y transporte escolar. Grúas', 'score': 0.6693348, 'raw_content': None}, {'url': 'https://bogota.gov.co/mi-ciudad/movilidad/movilidad-bogota-y-transmilenio-por-paro-hoy-martes-16-de-septiembre', 'title': 'Movilidad Bogotá y TransMilenio por paro hoy martes 16 de ...', 'content': '**¡Así está la movilidad en Bogotá!** Hoy martes 16 de septiembre de 2025, en la ciudad gremios de taxistas, motociclistas y conductores, anunciaron una jornada de manifestaciones. ✅ Se cancelan retornos para los servicios FJ23 en estación Av. Jiménez Calle 13 (La Mariposa). Persiste la manifestación en este sector los servicios alimentadores y TransMiZonal mantienen desvíos. Se mantiene el bloqueo en la vía, los servicios de TransMiZonal siguen desvíos. La manifestación sigue en el sector, por lo que los servicios alimentadores y TransMiZonal mantienen desvíos. Al momento persiste la manifestación en este punto, continúan con desvíos los servicios alimentadores y de TransMiZonal. A la hora se presenta manifestación en la vía, los servicios de TransMiZonal y rutas alimentadoras activan desvíos en este sector.', 'score': 0.65861565, 'raw_content': None}, {'url': 'https://www.marca.com/co/2025/09/16/68c8caa5268e3eec318b4581.html', 'title': 'Paro conductores Bogotá, hoy 16 de septiembre: puntos de bloqueo ...', 'content': 'Los convocantes, que incluyen conductores de grúas, plataformas digitales, taxis, transporte escolar, domiciliarios y motociclistas, han', 'score': 0.62770075, 'raw_content': None}, {'url': 'https://www.infobae.com/colombia/2025/09/16/en-vivo-gremio-de-transportadores-adelantan-paro-en-bogota-el-16-de-septiembre/', 'title': 'Paro de transportadores en Bogotá hoy 16 de septiembre - Infobae', 'content': 'María Fernanda Ortiz, gerente de Transmílenlo, entrego un balance de la mitad de la jornada del 16 de septiembre que afecto a miles de usuarios', 'score': 0.6147415, 'raw_content': None}], 'response_time': 0.84, 'request_id': '57ff9840-87ef-47ce-b71b-0810fa5a0ddf'}\u001b[0m\u001b[32;1m\u001b[1;3mQuestion: ¿Qué organización participa en el paro?\n",
      "\n",
      "Thought: Para responder a esta pregunta, necesito obtener información sobre el paro de transporte del 16 de septiembre en Bogotá, específicamente sobre la organización que participa en él.\n",
      "\n",
      "Action: get_paro_comprehensive_news\n",
      "Action Input: \"Organización que participa en el paro de transporte del 16 de septiembre en Bogotá\"\n",
      "\u001b[0m\u001b[36;1m\u001b[1;3m{'query': 'Organización que participa en el paro de transporte del 16 de septiembre en Bogotá\"\\n', 'follow_up_questions': None, 'answer': None, 'images': [], 'results': [{'url': 'https://www.infobae.com/colombia/2025/09/15/protesta-de-conductores-en-bogota-este-martes-16-de-septiembre-estos-seran-los-puntos-de-las-concentraciones/', 'title': 'Protesta de conductores en Bogotá este martes 16 de septiembre', 'content': 'La protesta contará con la participación de representantes de múltiples sectores: transporte escolar, grúas particulares, transporte de carga,', 'score': 0.7471924, 'raw_content': None}, {'url': 'https://www.lafm.com.co/bogota/paro-de-motociclistas-y-conductores-en-bogota-este-16-de-septiembre-hora-y-puntos-de-concentracion', 'title': 'Paro de motociclistas y conductores en Bogotá este 16 de septiembre', 'content': '¿Quiénes se suman al paro del 16 de septiembre? A la movilización se unirán distintos sectores: Conductores de taxis y transporte escolar. Grúas', 'score': 0.6693348, 'raw_content': None}, {'url': 'https://bogota.gov.co/mi-ciudad/movilidad/movilidad-bogota-y-transmilenio-por-paro-hoy-martes-16-de-septiembre', 'title': 'Movilidad Bogotá y TransMilenio por paro hoy martes 16 de ...', 'content': '**¡Así está la movilidad en Bogotá!** Hoy martes 16 de septiembre de 2025, en la ciudad gremios de taxistas, motociclistas y conductores, anunciaron una jornada de manifestaciones. ✅ Se cancelan retornos para los servicios FJ23 en estación Av. Jiménez Calle 13 (La Mariposa). Persiste la manifestación en este sector los servicios alimentadores y TransMiZonal mantienen desvíos. Se mantiene el bloqueo en la vía, los servicios de TransMiZonal siguen desvíos. La manifestación sigue en el sector, por lo que los servicios alimentadores y TransMiZonal mantienen desvíos. Al momento persiste la manifestación en este punto, continúan con desvíos los servicios alimentadores y de TransMiZonal. A la hora se presenta manifestación en la vía, los servicios de TransMiZonal y rutas alimentadoras activan desvíos en este sector.', 'score': 0.65861565, 'raw_content': None}, {'url': 'https://www.marca.com/co/2025/09/16/68c8caa5268e3eec318b4581.html', 'title': 'Paro conductores Bogotá, hoy 16 de septiembre: puntos de bloqueo ...', 'content': 'Los convocantes, que incluyen conductores de grúas, plataformas digitales, taxis, transporte escolar, domiciliarios y motociclistas, han', 'score': 0.62770075, 'raw_content': None}, {'url': 'https://www.infobae.com/colombia/2025/09/16/en-vivo-gremio-de-transportadores-adelantan-paro-en-bogota-el-16-de-septiembre/', 'title': 'Paro de transportadores en Bogotá hoy 16 de septiembre - Infobae', 'content': 'María Fernanda Ortiz, gerente de Transmílenlo, entrego un balance de la mitad de la jornada del 16 de septiembre que afecto a miles de usuarios', 'score': 0.6147415, 'raw_content': None}], 'response_time': 1.34, 'request_id': '519c7dc7-2ce8-4ba2-a361-13144723fb5d'}\u001b[0m\u001b[32;1m\u001b[1;3mQuestion: ¿Qué organización participa en el paro?\n",
      "\n",
      "Thought: La información obtenida indica que varias organizaciones y sectores participan en el paro de transporte del 16 de septiembre en Bogotá. \n",
      "\n",
      "Action: get_paro_comprehensive_news\n",
      "Action Input: \"Organización que participa en el paro de transporte del 16 de septiembre en Bogotá\"\n",
      "\u001b[0m\u001b[36;1m\u001b[1;3m{'query': 'Organización que participa en el paro de transporte del 16 de septiembre en Bogotá\"\\n', 'follow_up_questions': None, 'answer': None, 'images': [], 'results': [{'url': 'https://www.infobae.com/colombia/2025/09/15/protesta-de-conductores-en-bogota-este-martes-16-de-septiembre-estos-seran-los-puntos-de-las-concentraciones/', 'title': 'Protesta de conductores en Bogotá este martes 16 de septiembre', 'content': 'La protesta contará con la participación de representantes de múltiples sectores: transporte escolar, grúas particulares, transporte de carga,', 'score': 0.7471924, 'raw_content': None}, {'url': 'https://www.lafm.com.co/bogota/paro-de-motociclistas-y-conductores-en-bogota-este-16-de-septiembre-hora-y-puntos-de-concentracion', 'title': 'Paro de motociclistas y conductores en Bogotá este 16 de septiembre', 'content': '¿Quiénes se suman al paro del 16 de septiembre? A la movilización se unirán distintos sectores: Conductores de taxis y transporte escolar. Grúas', 'score': 0.6693348, 'raw_content': None}, {'url': 'https://bogota.gov.co/mi-ciudad/movilidad/movilidad-bogota-y-transmilenio-por-paro-hoy-martes-16-de-septiembre', 'title': 'Movilidad Bogotá y TransMilenio por paro hoy martes 16 de ...', 'content': '**¡Así está la movilidad en Bogotá!** Hoy martes 16 de septiembre de 2025, en la ciudad gremios de taxistas, motociclistas y conductores, anunciaron una jornada de manifestaciones. ✅ Se cancelan retornos para los servicios FJ23 en estación Av. Jiménez Calle 13 (La Mariposa). Persiste la manifestación en este sector los servicios alimentadores y TransMiZonal mantienen desvíos. Se mantiene el bloqueo en la vía, los servicios de TransMiZonal siguen desvíos. La manifestación sigue en el sector, por lo que los servicios alimentadores y TransMiZonal mantienen desvíos. Al momento persiste la manifestación en este punto, continúan con desvíos los servicios alimentadores y de TransMiZonal. A la hora se presenta manifestación en la vía, los servicios de TransMiZonal y rutas alimentadoras activan desvíos en este sector.', 'score': 0.65861565, 'raw_content': None}, {'url': 'https://www.marca.com/co/2025/09/16/68c8caa5268e3eec318b4581.html', 'title': 'Paro conductores Bogotá, hoy 16 de septiembre: puntos de bloqueo ...', 'content': 'Los convocantes, que incluyen conductores de grúas, plataformas digitales, taxis, transporte escolar, domiciliarios y motociclistas, han', 'score': 0.62770075, 'raw_content': None}, {'url': 'https://www.infobae.com/colombia/2025/09/16/en-vivo-gremio-de-transportadores-adelantan-paro-en-bogota-el-16-de-septiembre/', 'title': 'Paro de transportadores en Bogotá hoy 16 de septiembre - Infobae', 'content': 'María Fernanda Ortiz, gerente de Transmílenlo, entrego un balance de la mitad de la jornada del 16 de septiembre que afecto a miles de usuarios', 'score': 0.6147415, 'raw_content': None}], 'response_time': 1.35, 'request_id': 'f9f99027-6b69-4742-9446-22a4ff2cb738'}\u001b[0m\u001b[32;1m\u001b[1;3mQuestion: ¿Qué organización participa en el paro?\n",
      "\n",
      "Thought: La información obtenida indica que varias organizaciones y sectores participan en el paro de transporte del 16 de septiembre en Bogotá. Los sectores que participan incluyen conductores de taxis, transporte escolar, grúas particulares, transporte de carga, plataformas digitales, domiciliarios y motociclistas.\n",
      "\n",
      "Final Answer: El paro de transporte del 16 de septiembre en Bogotá cuenta con la participación de múltiples sectores, incluyendo conductores de taxis, transporte escolar, grúas particulares, transporte de carga, plataformas digitales, domiciliarios y motociclistas. Para más información sobre los puntos de concentración y afectaciones en la movilidad, se puede consultar el sitio web de la Alcaldía de Bogotá o la Secretaría de Movilidad.\u001b[0m\n",
      "\n",
      "\u001b[1m> Finished chain.\u001b[0m\n"
     ]
    }
   ],
   "source": [
    "# Configura tu endpoint y compartimento\n",
    "ENDPOINT = f\"https://inference.generativeai.{REGION}.oci.oraclecloud.com\"\n",
    "\n",
    "llm = ChatOCIGenAI(\n",
    "  model_id=\"meta.llama-4-maverick-17b-128e-instruct-fp8\",\n",
    "  service_endpoint=\"https://inference.generativeai.us-chicago-1.oci.oraclecloud.com\",\n",
    "  compartment_id=COMPARTMENT_ID,\n",
    "  provider=\"meta\",\n",
    "  model_kwargs={\n",
    "    \"temperature\": 0.3, \n",
    "    \"max_tokens\": 800,   \n",
    "    \"top_p\": 0.8,  \n",
    "    \"frequency_penalty\": 0,\n",
    "    \"presence_penalty\": 0,\n",
    "  },\n",
    "  auth_type=\"API_KEY\",\n",
    "  auth_profile=\"DEFAULT\"\n",
    ")\n",
    "\n",
    "tools = [get_paro_comprehensive_news]\n",
    "\n",
    "react_prompt_template = \"\"\"Eres un asistente especializado en el paro de transporte del 16 de septiembre en Bogotá.\n",
    "Responde en español de Colombia y usa las herramientas disponibles cuando sea útil.\n",
    "\n",
    "REGLAS IMPORTANTES:\n",
    "\n",
    "Tras usar una herramienta, resume con tus palabras los hallazgos (no pegues el JSON).\n",
    "\n",
    "Prioriza información reciente y oficial (Alcaldía de Bogotá, Secretaría de Movilidad, medios reconocidos).\n",
    "\n",
    "Incluye rutas afectadas, alternativas de transporte, horarios y enlaces útiles cuando existan.\n",
    "\n",
    "Si hay discrepancias entre fuentes, indícalas brevemente.\n",
    "\n",
    "Herramientas disponibles:\n",
    "{tools}\n",
    "\n",
    "Usa EXACTAMENTE este formato:\n",
    "\n",
    "Question: la pregunta a responder\n",
    "Thought: explica qué harás\n",
    "Action: una de [{tool_names}]\n",
    "Action Input: el input para la acción (o \"\" si no aplica)\n",
    "Observation: resultado de la acción\n",
    "Thought: analiza y sintetiza\n",
    "Final Answer: respuesta clara y útil en español de Colombia\n",
    "\n",
    "Comienza.\n",
    "\n",
    "Question: {input}\n",
    "Thought: {agent_scratchpad}\"\"\"\n",
    "\n",
    "prompt = PromptTemplate.from_template(react_prompt_template)\n",
    "agent = create_react_agent(llm, tools, prompt)\n",
    "\n",
    "agent_executor = AgentExecutor(\n",
    "    agent=agent,\n",
    "    tools=tools,\n",
    "    verbose=True,\n",
    "    max_iterations=6,\n",
    "    stream_runnable=False,\n",
    "    handle_parsing_errors=True\n",
    ")\n",
    "pregunta = \"cuál es la causa del paro?\"\n",
    "respuesta = agent_executor.invoke({\"input\": pregunta})\n",
    "\n",
    "pregunta = \"¿Qué organización participa en el paro?\"\n",
    "respuesta = agent_executor.invoke({\"input\": pregunta})\n"
   ]
  },
  {
   "cell_type": "code",
   "execution_count": 28,
   "id": "9cef07f0-51f8-4ba2-9a25-f3628023ad6e",
   "metadata": {
    "tags": []
   },
   "outputs": [
    {
     "data": {
      "text/plain": [
       "{'input': '¿Qué organización participa en el paro?',\n",
       " 'output': 'El paro de transporte del 16 de septiembre en Bogotá cuenta con la participación de múltiples sectores, incluyendo conductores de taxis, transporte escolar, grúas particulares, transporte de carga, plataformas digitales, domiciliarios y motociclistas. Para más información sobre los puntos de concentración y afectaciones en la movilidad, se puede consultar el sitio web de la Alcaldía de Bogotá o la Secretaría de Movilidad.'}"
      ]
     },
     "execution_count": 28,
     "metadata": {},
     "output_type": "execute_result"
    }
   ],
   "source": [
    "respuesta"
   ]
  },
  {
   "cell_type": "code",
   "execution_count": 29,
   "id": "8ba9c18b-2e1f-4a4b-bf43-0ac876d73634",
   "metadata": {
    "tags": []
   },
   "outputs": [
    {
     "data": {
      "text/markdown": [
       "## Resumen\n",
       "El paro de transporte del 16 de septiembre en Bogotá cuenta con la participación de múltiples sectores, incluyendo conductores de taxis, transporte escolar, grúas particulares, transporte de carga, plataformas digitales, domiciliarios y motociclistas. La información detallada sobre puntos de concentración y afectaciones en la movilidad puede ser consultada en el sitio web de la Alcaldía de Bogotá o la Secretaría de Movilidad. *No disponible* información sobre hora de inicio y fin, ni zonas específicas afectadas.\n",
       "\n",
       "## Rutas y afectaciones\n",
       "- **Transporte en general – Paro**: Participación de varios sectores del transporte. Para detalles específicos sobre afectaciones, consultar el sitio web de la Alcaldía de Bogotá o la Secretaría de Movilidad.\n",
       "  - *No disponible* información detallada sobre rutas de TransMilenio y SITP impactadas, bloqueos o marchas.\n",
       "\n",
       "## Recomendaciones\n",
       "- Consultar el sitio web de la Alcaldía de Bogotá o la Secretaría de Movilidad para obtener información actualizada sobre puntos de concentración y afectaciones en la movilidad.\n",
       "- Planificar con anticipación los desplazamientos y considerar alternativas de transporte.\n",
       "\n",
       "## Fuentes\n",
       "- Sitio web de la Alcaldía de Bogotá\n",
       "- Secretaría de Movilidad\n",
       "\n",
       "## Organización que participa en el paro\n",
       "Los sectores que participan en el paro incluyen conductores de taxis, transporte escolar, grúas particulares, transporte de carga, plataformas digitales, domiciliarios y motociclistas.\n",
       "\n",
       "## Medidas de la Alcaldía y otros impactos\n",
       "*No disponible* información sobre medidas específicas de la Alcaldía como desvíos, refuerzos de policía, pico y placa solidario, teletrabajo sugerido, o impactos en tráfico, colegios, oficinas y eventos. Se sugiere consultar las fuentes oficiales para obtener esta información."
      ],
      "text/plain": [
       "<IPython.core.display.Markdown object>"
      ]
     },
     "metadata": {},
     "output_type": "display_data"
    }
   ],
   "source": [
    "# 1) Toma la salida del agente y conviértela a texto de forma segura\n",
    "def _to_text(x):\n",
    "    if isinstance(x, dict):\n",
    "        # LangChain AgentExecutor suele devolver {\"output\": \"...\"}\n",
    "        return x.get(\"output\") or json.dumps(x, ensure_ascii=False, indent=2)\n",
    "    return str(x)\n",
    "\n",
    "insumos = _to_text(respuesta)   # <--- usa la variable 'respuesta' que ya tienes del agente\n",
    "\n",
    "# 2) Prompt de análisis/síntesis para Fiestas Patrias (Chile)\n",
    "analysis_prompt = f\"\"\"\n",
    "Eres un analista colombiano especializado en **el paro de transporte del 16 de septiembre en Bogotá**.  \n",
    "Usa solo los datos entregados más abajo para responder en **español de Colombia**, claro y útil.\n",
    "\n",
    "**DATOS RECOLECTADOS** (pueden incluir JSON):  \n",
    "{insumos}\n",
    "\n",
    "---\n",
    "\n",
    "### TAREAS  \n",
    "1. Responde directamente a la pregunta: **\"{pregunta}\"**.  \n",
    "2. Extrae y organiza lo más importante (si está disponible):  \n",
    "   - **hora de inicio y fin**  \n",
    "   - **zonas afectadas**  \n",
    "   - **rutas de TransMilenio y SITP impactadas**  \n",
    "   - **bloqueos o marchas**  \n",
    "   - **alternativas de transporte**  \n",
    "   - **enlaces oficiales**  \n",
    "3. Indica si se reportan **medidas de la Alcaldía** (desvíos, refuerzos de policía, pico y placa solidario, teletrabajo sugerido, etc.) y cualquier impacto en **tráfico, colegios, oficinas y eventos** si está en los datos.  \n",
    "4. Si hay discrepancias entre fuentes, menciónalas brevemente.  \n",
    "\n",
    "---\n",
    "\n",
    "### FORMATO (Markdown)\n",
    "\n",
    "#### ## Resumen  \n",
    "- 3–5 líneas con lo esencial (hora, zonas críticas, recomendaciones).  \n",
    "\n",
    "#### ## Rutas y afectaciones (si hay datos)  \n",
    "- **Sistema/sector – Afectación**: detalle de bloqueo o desvío | horario | recomendaciones | enlace  \n",
    "\n",
    "## Recomendaciones (si hay datos)\n",
    "- Lista de recomendaciones\n",
    "\n",
    "#### ## Fuentes  \n",
    "- Lista de URLs citadas (solo si aparecen en los datos).  \n",
    "\n",
    "---\n",
    "\n",
    "### REGLAS  \n",
    "- **No inventes** datos ni enlaces. Si algo no está en los datos, escribe: *No disponible*.  \n",
    "- Prioriza información **reciente y oficial** (Alcaldía de Bogotá, Secretaría de Movilidad, TransMilenio, medios confiables).\n",
    "\"\"\"\n",
    "\n",
    "# 3) Invoca la LLM (no streaming) y muestra en Markdown\n",
    "analysis_response = llm.invoke(analysis_prompt)\n",
    "display(Markdown(analysis_response.content))"
   ]
  },
  {
   "cell_type": "code",
   "execution_count": null,
   "id": "37fe362c",
   "metadata": {},
   "outputs": [],
   "source": []
  }
 ],
 "metadata": {
  "kernelspec": {
   "display_name": "oci-ai",
   "language": "python",
   "name": "python3"
  },
  "language_info": {
   "codemirror_mode": {
    "name": "ipython",
    "version": 3
   },
   "file_extension": ".py",
   "mimetype": "text/x-python",
   "name": "python",
   "nbconvert_exporter": "python",
   "pygments_lexer": "ipython3",
   "version": "3.11.13"
  },
  "toc-autonumbering": true
 },
 "nbformat": 4,
 "nbformat_minor": 5
}
